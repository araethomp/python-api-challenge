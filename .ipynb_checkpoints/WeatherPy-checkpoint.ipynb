{
 "cells": [
  {
   "cell_type": "markdown",
   "metadata": {},
   "source": [
    "# WeatherPy\n",
    "----\n",
    "\n",
    "#### Note\n",
    "* Instructions have been included for each segment. You do not have to follow them exactly, but they are included to help you think through the steps."
   ]
  },
  {
   "cell_type": "code",
   "execution_count": 4,
   "metadata": {
    "scrolled": true
   },
   "outputs": [],
   "source": [
    "# Dependencies and Setup\n",
    "import matplotlib.pyplot as plt\n",
    "import pandas as pd\n",
    "import numpy as np\n",
    "import requests\n",
    "import time\n",
    "from scipy.stats import linregress\n",
    "\n",
    "# Import API key\n",
    "from config import weather_api_key\n",
    "\n",
    "# Incorporated citipy to determine city based on latitude and longitude\n",
    "from citipy import citipy\n",
    "\n",
    "# Output File (CSV)\n",
    "output_data_file = \"output_data/cities.csv\"\n",
    "\n",
    "# Range of latitudes and longitudes\n",
    "lat_range = (-90, 90)\n",
    "lng_range = (-180, 180)"
   ]
  },
  {
   "cell_type": "markdown",
   "metadata": {},
   "source": [
    "## Generate Cities List"
   ]
  },
  {
   "cell_type": "code",
   "execution_count": 5,
   "metadata": {},
   "outputs": [
    {
     "data": {
      "text/plain": [
       "631"
      ]
     },
     "execution_count": 5,
     "metadata": {},
     "output_type": "execute_result"
    }
   ],
   "source": [
    "# List for holding lat_lngs and cities\n",
    "lat_lngs = []\n",
    "cities = []\n",
    "\n",
    "# Create a set of random lat and lng combinations\n",
    "#change size back to size=1500\n",
    "lats = np.random.uniform(lat_range[0], lat_range[1], size=1550)\n",
    "lngs = np.random.uniform(lng_range[0], lng_range[1], size=1550)\n",
    "lat_lngs = zip(lats, lngs)\n",
    "\n",
    "# Identify nearest city for each lat, lng combination\n",
    "for lat_lng in lat_lngs:\n",
    "    city = citipy.nearest_city(lat_lng[0], lat_lng[1]).city_name\n",
    "    #print(lat_lng)\n",
    "    #break\n",
    "    \n",
    "    # If the city is unique, then add it to a our cities list\n",
    "    if city not in cities:\n",
    "        cities.append(city)\n",
    "\n",
    "# Print the city count to confirm sufficient count\n",
    "len(cities)"
   ]
  },
  {
   "cell_type": "markdown",
   "metadata": {},
   "source": [
    "### Perform API Calls\n",
    "* Perform a weather check on each city using a series of successive API calls.\n",
    "* Include a print log of each city as it'sbeing processed (with the city number and city name).\n"
   ]
  },
  {
   "cell_type": "code",
   "execution_count": 6,
   "metadata": {},
   "outputs": [
    {
     "name": "stdout",
     "output_type": "stream",
     "text": [
      "Beginning Data Retrevial\n",
      "-------------------------------\n",
      "Processing record 1|henties bay\n",
      "Processing record 2|hofn\n",
      "Processing record 3|cape town\n",
      "Processing record 4|dikson\n",
      "Processing record 5|tuatapere\n",
      "Processing record 6|contamana\n",
      "Processing record 7|port-gentil\n",
      "Processing record 8|rikitea\n",
      "Processing record 9|sitka\n",
      "Processing record 10|gat\n",
      "Processing record 11|kysyl-syr\n",
      "Processing record 12|tasiilaq\n",
      "Processing record 13|butaritari\n",
      "Processing record 14|torbay\n",
      "Processing record 15|cochrane\n",
      "Processing record 16|hermanus\n",
      "Processing record 17|castro\n",
      "Processing record 18|tiksi\n",
      "Processing record 19|cabo san lucas\n",
      "Processing record 20|mar del plata\n",
      "Processing record 21|clyde river\n",
      "Processing record 22|cidreira\n",
      "Processing record 23|puerto ayora\n",
      "Processing record 24|samana\n",
      "Processing record 25|kapaa\n",
      "Processing record 26|altay\n",
      "Processing record 27|luderitz\n",
      "Processing record 28|albany\n",
      "City name not available.\n",
      "Processing record 29|punta arenas\n",
      "Processing record 30|hamilton\n",
      "Processing record 31|naze\n",
      "Processing record 32|vaini\n",
      "Processing record 33|hobart\n",
      "City name not available.\n",
      "Processing record 34|busselton\n",
      "Processing record 35|georgetown\n",
      "City name not available.\n",
      "Processing record 36|lebu\n",
      "Processing record 37|bambous virieux\n",
      "Processing record 38|thompson\n",
      "Processing record 39|vestmannaeyjar\n",
      "Processing record 40|manacor\n",
      "Processing record 41|esperance\n",
      "Processing record 42|rio gallegos\n",
      "Processing record 43|port hardy\n",
      "Processing record 44|bluff\n",
      "Processing record 45|te anau\n",
      "Processing record 46|port alfred\n",
      "Processing record 47|lusambo\n",
      "Processing record 48|tutayev\n",
      "Processing record 49|aojiang\n",
      "Processing record 50|casteldaccia\n",
      "Processing record 51|ushuaia\n",
      "Processing record 52|santa cruz\n",
      "Processing record 53|tessalit\n",
      "Processing record 54|ljungby\n",
      "Processing record 55|guerrero negro\n",
      "Processing record 56|raahe\n",
      "City name not available.\n",
      "Processing record 57|takoradi\n",
      "Processing record 58|san vicente\n",
      "Processing record 59|ulu-telyak\n",
      "Processing record 60|saskylakh\n",
      "Processing record 61|boa vista\n",
      "Processing record 62|bam\n",
      "Processing record 63|jamestown\n",
      "Processing record 64|klaksvik\n",
      "Processing record 65|kocevje\n",
      "Processing record 66|provideniya\n",
      "Processing record 67|carnarvon\n",
      "Processing record 68|mataura\n",
      "Processing record 69|port elizabeth\n",
      "Processing record 70|narsaq\n",
      "Processing record 71|opuwo\n",
      "Processing record 72|beringovskiy\n",
      "Processing record 73|avarua\n",
      "Processing record 74|bethel\n",
      "Processing record 75|qaanaaq\n",
      "Processing record 76|longyearbyen\n",
      "Processing record 77|bredasdorp\n",
      "Processing record 78|tuktoyaktuk\n",
      "Processing record 79|novyy urengoy\n",
      "City name not available.\n",
      "Processing record 80|gigmoto\n",
      "Processing record 81|saldanha\n",
      "Processing record 82|anadyr\n",
      "City name not available.\n",
      "Processing record 83|barrow\n",
      "Processing record 84|hobyo\n",
      "Processing record 85|kaitangata\n",
      "Processing record 86|san quintin\n",
      "Processing record 87|bengkulu\n",
      "Processing record 88|genhe\n",
      "City name not available.\n",
      "Processing record 89|amudat\n",
      "Processing record 90|leningradskiy\n",
      "Processing record 91|rundu\n",
      "Processing record 92|tezu\n",
      "City name not available.\n",
      "Processing record 93|traverse city\n",
      "Processing record 94|sechura\n",
      "Processing record 95|port keats\n",
      "Processing record 96|grand gaube\n",
      "Processing record 97|faanui\n",
      "Processing record 98|hilo\n",
      "Processing record 99|broome\n",
      "Processing record 100|kodiak\n",
      "Processing record 101|sao joao da barra\n",
      "Processing record 102|ribeira grande\n",
      "Processing record 103|talnakh\n",
      "Processing record 104|karla\n",
      "Processing record 105|kahului\n",
      "Processing record 106|acarau\n",
      "Processing record 107|kota kinabalu\n",
      "Processing record 108|souillac\n",
      "Processing record 109|preobrazheniye\n",
      "City name not available.\n",
      "Processing record 110|korla\n",
      "Processing record 111|biltine\n",
      "Processing record 112|kampot\n",
      "Processing record 113|isangel\n",
      "Processing record 114|arraial do cabo\n",
      "Processing record 115|namibe\n",
      "Processing record 116|vaitape\n",
      "Processing record 117|nanortalik\n",
      "Processing record 118|grindavik\n",
      "Processing record 119|luganville\n",
      "Processing record 120|acapulco\n",
      "Processing record 121|hasaki\n",
      "Processing record 122|moussoro\n",
      "Processing record 123|poso\n",
      "Processing record 124|lasa\n",
      "Processing record 125|east london\n",
      "Processing record 126|tahoua\n",
      "Processing record 127|salalah\n",
      "Processing record 128|ambon\n",
      "Processing record 129|jinchang\n",
      "Processing record 130|mayumba\n",
      "Processing record 131|nicoya\n",
      "Processing record 132|caravelas\n",
      "Processing record 133|coahuayana\n",
      "Processing record 134|severnyy\n",
      "Processing record 135|xinyang\n",
      "Processing record 136|coihaique\n",
      "Processing record 137|mehamn\n",
      "Processing record 138|ancud\n",
      "Processing record 139|ostersund\n",
      "Processing record 140|atuona\n",
      "Processing record 141|pangai\n",
      "Processing record 142|perth\n",
      "Processing record 143|kortkeros\n",
      "Processing record 144|nambucca heads\n",
      "City name not available.\n",
      "Processing record 145|tecpan\n",
      "Processing record 146|upata\n",
      "Processing record 147|port blair\n",
      "Processing record 148|siavonga\n",
      "City name not available.\n",
      "Processing record 149|saint-philippe\n",
      "Processing record 150|ponta do sol\n",
      "Processing record 151|belmonte\n",
      "Processing record 152|san policarpo\n",
      "Processing record 153|norman wells\n",
      "Processing record 154|aden\n",
      "Processing record 155|umm lajj\n",
      "Processing record 156|guiyang\n",
      "Processing record 157|kirove\n",
      "Processing record 158|saint george\n",
      "Processing record 159|nizhniy odes\n",
      "Processing record 160|iqaluit\n",
      "City name not available.\n",
      "Processing record 161|aklavik\n",
      "Processing record 162|arawa\n",
      "Processing record 163|aswan\n",
      "Processing record 164|villarrica\n",
      "Processing record 165|new norfolk\n",
      "Processing record 166|dafeng\n",
      "Processing record 167|belaya gora\n",
      "Processing record 168|makakilo city\n",
      "Processing record 169|corigliano calabro\n",
      "Processing record 170|aykhal\n",
      "Processing record 171|lavrentiya\n",
      "Processing record 172|upernavik\n",
      "City name not available.\n",
      "Processing record 173|newbury\n",
      "Processing record 174|linxia\n",
      "Processing record 175|ketchikan\n",
      "Processing record 176|nelson bay\n",
      "Processing record 177|kruisfontein\n",
      "Processing record 178|westport\n",
      "Processing record 179|albury\n",
      "Processing record 180|ostrovnoy\n",
      "Processing record 181|necochea\n",
      "Processing record 182|karratha\n",
      "Processing record 183|cockburn town\n",
      "Processing record 184|codrington\n",
      "Processing record 185|yaan\n",
      "Processing record 186|las palmas\n",
      "Processing record 187|marrakesh\n",
      "Processing record 188|caraballeda\n",
      "Processing record 189|ilo\n",
      "Processing record 190|kurilsk\n",
      "Processing record 191|kupang\n",
      "City name not available.\n",
      "Processing record 192|bulungu\n",
      "Processing record 193|panjab\n",
      "Processing record 194|shache\n",
      "Processing record 195|queanbeyan\n",
      "Processing record 196|hambantota\n",
      "Processing record 197|najran\n",
      "Processing record 198|sarmakovo\n",
      "Processing record 199|darhan\n",
      "Processing record 200|victoria\n",
      "Processing record 201|beasain\n",
      "Processing record 202|okhotsk\n",
      "Processing record 203|lukovetskiy\n",
      "Processing record 204|qinhuangdao\n",
      "Processing record 205|goderich\n",
      "City name not available.\n",
      "Processing record 206|sembakung\n",
      "Processing record 207|bereda\n",
      "Processing record 208|tamiahua\n",
      "Processing record 209|pangnirtung\n",
      "Processing record 210|san cristobal\n",
      "Processing record 211|caxito\n",
      "Processing record 212|constitucion\n",
      "Processing record 213|ilhabela\n",
      "City name not available.\n",
      "Processing record 214|nosy varika\n",
      "Processing record 215|sinnamary\n",
      "Processing record 216|college\n",
      "Processing record 217|paraiso\n",
      "Processing record 218|port hueneme\n",
      "Processing record 219|yumen\n",
      "Processing record 220|nikolskoye\n",
      "Processing record 221|kununurra\n",
      "Processing record 222|zheleznogorsk\n",
      "Processing record 223|ranong\n",
      "Processing record 224|katsuura\n",
      "Processing record 225|juneau\n",
      "City name not available.\n",
      "Processing record 226|sao marcos\n",
      "City name not available.\n",
      "Processing record 227|bay roberts\n",
      "Processing record 228|malanje\n",
      "Processing record 229|praia\n",
      "Processing record 230|uvalde\n",
      "Processing record 231|requena\n",
      "Processing record 232|araouane\n",
      "City name not available.\n",
      "Processing record 233|hirado\n",
      "Processing record 234|sinegorsk\n",
      "Processing record 235|kefamenanu\n",
      "Processing record 236|fortuna\n",
      "Processing record 237|raudeberg\n",
      "Processing record 238|louisville\n",
      "Processing record 239|pacific grove\n",
      "Processing record 240|sambava\n",
      "Processing record 241|baiyin\n",
      "Processing record 242|gorontalo\n",
      "Processing record 243|pisco\n",
      "City name not available.\n",
      "Processing record 244|hithadhoo\n",
      "Processing record 245|hami\n",
      "City name not available.\n",
      "Processing record 246|berdigestyakh\n",
      "City name not available.\n",
      "Processing record 247|gora\n"
     ]
    },
    {
     "name": "stdout",
     "output_type": "stream",
     "text": [
      "Processing record 248|haines junction\n",
      "City name not available.\n",
      "City name not available.\n",
      "Processing record 249|amapa\n",
      "Processing record 250|asau\n",
      "Processing record 251|khani\n",
      "Processing record 252|dunedin\n",
      "Processing record 253|madaoua\n",
      "Processing record 254|petropavlovsk-kamchatskiy\n",
      "Processing record 255|lompoc\n",
      "Processing record 256|anlu\n",
      "City name not available.\n",
      "Processing record 257|luang prabang\n",
      "Processing record 258|havre-saint-pierre\n",
      "Processing record 259|watertown\n",
      "Processing record 260|san patricio\n",
      "Processing record 261|mackay\n",
      "Processing record 262|marzuq\n",
      "City name not available.\n",
      "Processing record 263|kichmengskiy gorodok\n",
      "Processing record 264|pedro juan caballero\n",
      "City name not available.\n",
      "Processing record 265|chokurdakh\n",
      "Processing record 266|ulaanbaatar\n",
      "Processing record 267|polczyn-zdroj\n",
      "Processing record 268|marau\n",
      "Processing record 269|muroto\n",
      "Processing record 270|kamen-na-obi\n",
      "Processing record 271|manzhouli\n",
      "Processing record 272|pangkalanbuun\n",
      "Processing record 273|vanderhoof\n",
      "City name not available.\n",
      "Processing record 274|tonantins\n",
      "City name not available.\n",
      "City name not available.\n",
      "Processing record 275|kushalgarh\n",
      "Processing record 276|terney\n",
      "Processing record 277|corinto\n",
      "Processing record 278|clonakilty\n",
      "Processing record 279|eshowe\n",
      "City name not available.\n",
      "Processing record 280|mazagao\n",
      "Processing record 281|kattivakkam\n",
      "Processing record 282|hanzhong\n",
      "Processing record 283|goroka\n",
      "Processing record 284|soubre\n",
      "Processing record 285|kondopoga\n",
      "Processing record 286|touros\n",
      "Processing record 287|rocha\n",
      "Processing record 288|champerico\n",
      "Processing record 289|magistralnyy\n",
      "Processing record 290|faya\n",
      "Processing record 291|coquimbo\n",
      "Processing record 292|saint-ambroise\n",
      "Processing record 293|suleja\n",
      "Processing record 294|george town\n",
      "Processing record 295|olafsvik\n",
      "Processing record 296|benjamin aceval\n",
      "Processing record 297|namatanai\n",
      "Processing record 298|bahia honda\n",
      "Processing record 299|ca mau\n",
      "Processing record 300|kieta\n",
      "Processing record 301|kirkwood\n",
      "Processing record 302|victor harbor\n",
      "Processing record 303|jian\n",
      "Processing record 304|nouadhibou\n",
      "Processing record 305|kamina\n",
      "Processing record 306|las vegas\n",
      "Processing record 307|lanxi\n",
      "City name not available.\n",
      "Processing record 308|omsukchan\n",
      "Processing record 309|nizhniy tsasuchey\n",
      "Processing record 310|barra do garcas\n",
      "Processing record 311|lagoa\n",
      "Processing record 312|shambu\n",
      "Processing record 313|clearwater\n",
      "Processing record 314|edd\n",
      "Processing record 315|bandarbeyla\n",
      "Processing record 316|bytow\n",
      "Processing record 317|constantine\n",
      "Processing record 318|bara\n",
      "Processing record 319|gamba\n",
      "Processing record 320|vryburg\n",
      "Processing record 321|ilesha\n",
      "Processing record 322|rio hato\n",
      "Processing record 323|ati\n",
      "Processing record 324|seoul\n",
      "Processing record 325|thurso\n",
      "Processing record 326|karatau\n",
      "Processing record 327|inuvik\n",
      "Processing record 328|belyy yar\n",
      "Processing record 329|suntar\n",
      "Processing record 330|zakamensk\n",
      "Processing record 331|fort nelson\n",
      "Processing record 332|tomatlan\n",
      "Processing record 333|beloha\n",
      "Processing record 334|nabire\n",
      "Processing record 335|yinchuan\n",
      "Processing record 336|socorro\n",
      "Processing record 337|rafraf\n",
      "Processing record 338|komsomolskiy\n",
      "Processing record 339|saint-augustin\n",
      "Processing record 340|katobu\n",
      "Processing record 341|medea\n",
      "Processing record 342|ilulissat\n",
      "City name not available.\n",
      "Processing record 343|severo-kurilsk\n",
      "Processing record 344|grootfontein\n",
      "Processing record 345|kavaratti\n",
      "Processing record 346|waipawa\n",
      "Processing record 347|esfahan\n",
      "Processing record 348|nhulunbuy\n",
      "Processing record 349|payson\n",
      "Processing record 350|trinidad\n",
      "Processing record 351|saint-pierre\n",
      "Processing record 352|port macquarie\n",
      "Processing record 353|kyabe\n",
      "Processing record 354|dhekiajuli\n",
      "Processing record 355|paramaribo\n",
      "Processing record 356|ulladulla\n",
      "Processing record 357|talavera\n",
      "Processing record 358|bolbosi\n",
      "Processing record 359|matagami\n",
      "Processing record 360|sabang\n",
      "Processing record 361|alexandria\n",
      "Processing record 362|gaoua\n",
      "Processing record 363|carroll\n",
      "City name not available.\n",
      "Processing record 364|halmstad\n",
      "City name not available.\n",
      "Processing record 365|joao pinheiro\n",
      "Processing record 366|pativilca\n",
      "Processing record 367|deputatskiy\n",
      "Processing record 368|bundu\n",
      "Processing record 369|cururupu\n",
      "Processing record 370|christchurch\n",
      "Processing record 371|nelidovo\n",
      "Processing record 372|roald\n",
      "City name not available.\n",
      "Processing record 373|bandar\n",
      "Processing record 374|volksrust\n",
      "City name not available.\n",
      "Processing record 375|osmaniye\n",
      "Processing record 376|baruun-urt\n",
      "Processing record 377|samarai\n",
      "Processing record 378|mandera\n",
      "Processing record 379|alofi\n",
      "Processing record 380|cherskiy\n",
      "Processing record 381|airai\n",
      "City name not available.\n",
      "Processing record 382|kleive\n",
      "Processing record 383|mahebourg\n",
      "Processing record 384|sao sebastiao do passe\n",
      "Processing record 385|wamba\n",
      "City name not available.\n",
      "Processing record 386|moerai\n",
      "Processing record 387|havoysund\n",
      "Processing record 388|sept-iles\n",
      "Processing record 389|bad reichenhall\n",
      "Processing record 390|zhezkazgan\n",
      "Processing record 391|makubetsu\n",
      "Processing record 392|dilla\n",
      "Processing record 393|port lincoln\n",
      "Processing record 394|bathsheba\n",
      "Processing record 395|aksha\n",
      "Processing record 396|abha\n",
      "Processing record 397|shebalino\n",
      "Processing record 398|benguela\n",
      "Processing record 399|yining\n",
      "Processing record 400|madang\n",
      "Processing record 401|kajaani\n",
      "Processing record 402|aktau\n",
      "Processing record 403|panama city\n",
      "Processing record 404|fukue\n",
      "Processing record 405|villazon\n",
      "Processing record 406|mucurapo\n",
      "Processing record 407|dergachi\n",
      "Processing record 408|baie-saint-paul\n",
      "Processing record 409|mushie\n",
      "Processing record 410|vicosa\n",
      "City name not available.\n",
      "Processing record 411|alice springs\n",
      "Processing record 412|bilaspur\n",
      "Processing record 413|cabral\n",
      "Processing record 414|kenai\n",
      "Processing record 415|luanda\n",
      "Processing record 416|husavik\n",
      "Processing record 417|yellowknife\n",
      "Processing record 418|egvekinot\n",
      "Processing record 419|camacha\n",
      "Processing record 420|piedade\n",
      "City name not available.\n",
      "Processing record 421|chapais\n",
      "Processing record 422|vao\n",
      "Processing record 423|kang\n",
      "City name not available.\n",
      "Processing record 424|dudinka\n",
      "Processing record 425|cap malheureux\n",
      "Processing record 426|khatanga\n",
      "Processing record 427|geraldton\n",
      "Processing record 428|vanimo\n",
      "Processing record 429|kazachinskoye\n",
      "City name not available.\n",
      "Processing record 430|pasadena\n",
      "Processing record 431|chuy\n",
      "Processing record 432|saint-joseph\n",
      "City name not available.\n",
      "Processing record 433|mayo\n",
      "Processing record 434|tokmak\n",
      "Processing record 435|axim\n",
      "Processing record 436|nehe\n",
      "Processing record 437|behshahr\n",
      "Processing record 438|dwarka\n",
      "City name not available.\n",
      "Processing record 439|neiafu\n",
      "Processing record 440|correntina\n",
      "Processing record 441|tual\n",
      "Processing record 442|athabasca\n",
      "Processing record 443|paamiut\n",
      "Processing record 444|atbasar\n",
      "Processing record 445|los andes\n",
      "Processing record 446|manokwari\n",
      "Processing record 447|kiknur\n",
      "Processing record 448|catio\n",
      "City name not available.\n",
      "Processing record 449|nyurba\n",
      "Processing record 450|north valley\n",
      "Processing record 451|alekseyevsk\n",
      "Processing record 452|tura\n",
      "City name not available.\n",
      "Processing record 453|iquique\n",
      "Processing record 454|byron bay\n",
      "Processing record 455|maryborough\n",
      "Processing record 456|hervey bay\n",
      "Processing record 457|abu dhabi\n",
      "Processing record 458|puerto narino\n",
      "Processing record 459|richards bay\n",
      "Processing record 460|tongzi\n",
      "Processing record 461|kedgwick\n",
      "Processing record 462|yangjiang\n",
      "Processing record 463|beian\n",
      "Processing record 464|aksarka\n",
      "Processing record 465|alappuzha\n",
      "Processing record 466|worland\n",
      "Processing record 467|springbok\n",
      "Processing record 468|carballo\n",
      "Processing record 469|leon valley\n",
      "Processing record 470|tazovskiy\n",
      "City name not available.\n",
      "Processing record 471|copiapo\n",
      "Processing record 472|sokol\n",
      "Processing record 473|herouville-saint-clair\n",
      "Processing record 474|gouyave\n",
      "Processing record 475|lucapa\n",
      "Processing record 476|takhtamygda\n",
      "Processing record 477|brownwood\n",
      "Processing record 478|santa fe\n",
      "Processing record 479|sol-iletsk\n",
      "Processing record 480|biak\n",
      "Processing record 481|kamaishi\n",
      "Processing record 482|bambanglipuro\n",
      "Processing record 483|celestun\n",
      "Processing record 484|mandsaur\n",
      "Processing record 485|corn island\n",
      "Processing record 486|ibra\n",
      "Processing record 487|mangrol\n",
      "Processing record 488|borovichi\n"
     ]
    },
    {
     "name": "stdout",
     "output_type": "stream",
     "text": [
      "Processing record 489|atyrau\n",
      "Processing record 490|kudahuvadhoo\n",
      "Processing record 491|severodvinsk\n",
      "Processing record 492|kashi\n",
      "Processing record 493|mount gambier\n",
      "Processing record 494|batemans bay\n",
      "City name not available.\n",
      "Processing record 495|kaniama\n",
      "Processing record 496|abu samrah\n",
      "City name not available.\n",
      "Processing record 497|lagos\n",
      "Processing record 498|ternate\n",
      "Processing record 499|taltal\n",
      "Processing record 500|mitsamiouli\n",
      "Processing record 501|shimanovsk\n",
      "Processing record 502|mandan\n",
      "Processing record 503|myitkyina\n",
      "Processing record 504|mugan\n",
      "Processing record 505|bubaque\n",
      "Processing record 506|kathmandu\n",
      "Processing record 507|poum\n",
      "Processing record 508|qaqortoq\n",
      "Processing record 509|mahon\n",
      "Processing record 510|sobolevo\n",
      "Processing record 511|sisimiut\n",
      "Processing record 512|ukiah\n",
      "Processing record 513|usinsk\n",
      "Processing record 514|camocim\n",
      "City name not available.\n",
      "Processing record 515|laguna\n",
      "Processing record 516|abrau-dyurso\n",
      "Processing record 517|jacareacanga\n",
      "Processing record 518|canete\n",
      "Processing record 519|xai-xai\n",
      "Processing record 520|cartagena\n",
      "Processing record 521|nome\n",
      "Processing record 522|sorong\n",
      "Processing record 523|matadi\n",
      "Processing record 524|zhigansk\n",
      "Processing record 525|urumqi\n",
      "Processing record 526|lingao\n",
      "Processing record 527|yershov\n",
      "Processing record 528|bonfim\n",
      "Processing record 529|goshogawara\n",
      "Processing record 530|bilma\n",
      "Processing record 531|svetlogorsk\n",
      "Processing record 532|jinji\n",
      "Processing record 533|tecoanapa\n",
      "Processing record 534|padang\n",
      "Processing record 535|kristianstad\n",
      "Processing record 536|imbituba\n",
      "City name not available.\n",
      "Processing record 537|tambacounda\n",
      "Processing record 538|buala\n",
      "Processing record 539|peniche\n",
      "Processing record 540|inirida\n",
      "Processing record 541|harper\n",
      "Processing record 542|longyan\n",
      "Processing record 543|verkhnetulomskiy\n",
      "Processing record 544|puerto santander\n",
      "Processing record 545|petropavlovka\n",
      "Processing record 546|provost\n",
      "Processing record 547|avera\n",
      "Processing record 548|marsa matruh\n",
      "Processing record 549|ahuimanu\n",
      "Processing record 550|thiruvananthapuram\n",
      "Processing record 551|loudi\n",
      "City name not available.\n",
      "Processing record 552|viedma\n",
      "Processing record 553|sioux lookout\n",
      "Processing record 554|yurimaguas\n",
      "Processing record 555|batsfjord\n",
      "Processing record 556|ploemeur\n",
      "Processing record 557|bastogne\n",
      "Processing record 558|rajgarh\n",
      "City name not available.\n",
      "Processing record 559|jalu\n",
      "Processing record 560|kailua\n",
      "Processing record 561|merauke\n",
      "Processing record 562|mulege\n",
      "Processing record 563|muzhi\n",
      "City name not available.\n",
      "Processing record 564|tiarei\n",
      "Processing record 565|karwar\n",
      "Processing record 566|northam\n",
      "Processing record 567|olinda\n",
      "City name not available.\n",
      "Processing record 568|yokadouma\n",
      "Processing record 569|bismarck\n",
      "Processing record 570|two rivers\n",
      "Processing record 571|kingaroy\n",
      "Processing record 572|dosso\n",
      "Processing record 573|thinadhoo\n",
      "Processing record 574|halifax\n",
      "Processing record 575|pevek\n"
     ]
    }
   ],
   "source": [
    "base_url = \"http://api.openweathermap.org/data/2.5/weather?units=Imperial&\"\n",
    "import json\n",
    "\n",
    "cloudiness = []\n",
    "country = []\n",
    "date = []\n",
    "max_temp = []\n",
    "humidity = []\n",
    "lat = []\n",
    "lng = []\n",
    "wind_speed = []\n",
    "city_name = []\n",
    "\n",
    "# Loop through cities making the API call\n",
    "print(\"Beginning Data Retrevial\")\n",
    "print(\"-------------------------------\")\n",
    "i = 1\n",
    "for city in cities:\n",
    "    query_url = base_url + \"appid=\" + weather_api_key + \"&q=\" + city\n",
    "    response = requests.get(query_url).json()\n",
    "   # print(json.dumps(response, indent=2))\n",
    "    #break\n",
    "    try:\n",
    "        cloudiness.append(response[\"clouds\"][\"all\"])\n",
    "        country.append(response[\"sys\"][\"country\"])\n",
    "        date.append(response[\"dt\"])\n",
    "        max_temp.append(response[\"main\"]['temp_max'])\n",
    "        humidity.append(response[\"main\"]['humidity'])\n",
    "        lat.append(response[\"coord\"][\"lat\"])  \n",
    "        lng.append(response[\"coord\"][\"lon\"])\n",
    "        wind_speed.append(response[\"wind\"][\"speed\"])\n",
    "        city_name.append(response[\"name\"])\n",
    "        print(f\"Processing record {i}|{city}\")\n",
    "        i+=1\n",
    "        \n",
    "    except (KeyError):\n",
    "        print(\"City name not available.\")\n"
   ]
  },
  {
   "cell_type": "code",
   "execution_count": null,
   "metadata": {
    "scrolled": true
   },
   "outputs": [],
   "source": []
  },
  {
   "cell_type": "markdown",
   "metadata": {},
   "source": [
    "### Convert Raw Data to DataFrame\n",
    "* Export the city data into a .csv.\n",
    "* Display the DataFrame"
   ]
  },
  {
   "cell_type": "code",
   "execution_count": 7,
   "metadata": {},
   "outputs": [],
   "source": [
    "city_df = pd.DataFrame({\"City\": city_name, \n",
    "                        \"Cloudiness\": cloudiness, \n",
    "                        \"Country\": country, \n",
    "                        \"Date\": date, \n",
    "                        \"Humidity\":humidity,\n",
    "                        \"Lat\": lat,\n",
    "                        \"Lng\": lng,\n",
    "                        \"Max Temp\": max_temp,\n",
    "                        \"Wind Speed\": wind_speed\n",
    "                                         })\n",
    "city_df = city_df.rename_axis('City ID')\n",
    "city_df.head(5)\n",
    "city_df.to_csv(output_data_file)\n"
   ]
  },
  {
   "cell_type": "code",
   "execution_count": 8,
   "metadata": {},
   "outputs": [
    {
     "data": {
      "text/html": [
       "<div>\n",
       "<style scoped>\n",
       "    .dataframe tbody tr th:only-of-type {\n",
       "        vertical-align: middle;\n",
       "    }\n",
       "\n",
       "    .dataframe tbody tr th {\n",
       "        vertical-align: top;\n",
       "    }\n",
       "\n",
       "    .dataframe thead th {\n",
       "        text-align: right;\n",
       "    }\n",
       "</style>\n",
       "<table border=\"1\" class=\"dataframe\">\n",
       "  <thead>\n",
       "    <tr style=\"text-align: right;\">\n",
       "      <th></th>\n",
       "      <th>City</th>\n",
       "      <th>Cloudiness</th>\n",
       "      <th>Country</th>\n",
       "      <th>Date</th>\n",
       "      <th>Humidity</th>\n",
       "      <th>Lat</th>\n",
       "      <th>Lng</th>\n",
       "      <th>Max Temp</th>\n",
       "      <th>Wind Speed</th>\n",
       "    </tr>\n",
       "    <tr>\n",
       "      <th>City ID</th>\n",
       "      <th></th>\n",
       "      <th></th>\n",
       "      <th></th>\n",
       "      <th></th>\n",
       "      <th></th>\n",
       "      <th></th>\n",
       "      <th></th>\n",
       "      <th></th>\n",
       "      <th></th>\n",
       "    </tr>\n",
       "  </thead>\n",
       "  <tbody>\n",
       "    <tr>\n",
       "      <th>0</th>\n",
       "      <td>Henties Bay</td>\n",
       "      <td>40</td>\n",
       "      <td>NA</td>\n",
       "      <td>1612652293</td>\n",
       "      <td>89</td>\n",
       "      <td>-22.1160</td>\n",
       "      <td>14.2845</td>\n",
       "      <td>64.99</td>\n",
       "      <td>1.99</td>\n",
       "    </tr>\n",
       "    <tr>\n",
       "      <th>1</th>\n",
       "      <td>Hofn</td>\n",
       "      <td>98</td>\n",
       "      <td>IS</td>\n",
       "      <td>1612652145</td>\n",
       "      <td>92</td>\n",
       "      <td>64.2539</td>\n",
       "      <td>-15.2082</td>\n",
       "      <td>32.90</td>\n",
       "      <td>18.37</td>\n",
       "    </tr>\n",
       "    <tr>\n",
       "      <th>2</th>\n",
       "      <td>Cape Town</td>\n",
       "      <td>20</td>\n",
       "      <td>ZA</td>\n",
       "      <td>1612652293</td>\n",
       "      <td>83</td>\n",
       "      <td>-33.9258</td>\n",
       "      <td>18.4232</td>\n",
       "      <td>72.00</td>\n",
       "      <td>9.22</td>\n",
       "    </tr>\n",
       "    <tr>\n",
       "      <th>3</th>\n",
       "      <td>Dikson</td>\n",
       "      <td>89</td>\n",
       "      <td>RU</td>\n",
       "      <td>1612652294</td>\n",
       "      <td>86</td>\n",
       "      <td>73.5069</td>\n",
       "      <td>80.5464</td>\n",
       "      <td>-28.75</td>\n",
       "      <td>9.57</td>\n",
       "    </tr>\n",
       "    <tr>\n",
       "      <th>4</th>\n",
       "      <td>Tuatapere</td>\n",
       "      <td>1</td>\n",
       "      <td>NZ</td>\n",
       "      <td>1612652294</td>\n",
       "      <td>50</td>\n",
       "      <td>-46.1333</td>\n",
       "      <td>167.6833</td>\n",
       "      <td>70.03</td>\n",
       "      <td>1.92</td>\n",
       "    </tr>\n",
       "  </tbody>\n",
       "</table>\n",
       "</div>"
      ],
      "text/plain": [
       "                City  Cloudiness Country        Date  Humidity      Lat  \\\n",
       "City ID                                                                   \n",
       "0        Henties Bay          40      NA  1612652293        89 -22.1160   \n",
       "1               Hofn          98      IS  1612652145        92  64.2539   \n",
       "2          Cape Town          20      ZA  1612652293        83 -33.9258   \n",
       "3             Dikson          89      RU  1612652294        86  73.5069   \n",
       "4          Tuatapere           1      NZ  1612652294        50 -46.1333   \n",
       "\n",
       "              Lng  Max Temp  Wind Speed  \n",
       "City ID                                  \n",
       "0         14.2845     64.99        1.99  \n",
       "1        -15.2082     32.90       18.37  \n",
       "2         18.4232     72.00        9.22  \n",
       "3         80.5464    -28.75        9.57  \n",
       "4        167.6833     70.03        1.92  "
      ]
     },
     "execution_count": 8,
     "metadata": {},
     "output_type": "execute_result"
    }
   ],
   "source": [
    "city_df.head(5)"
   ]
  },
  {
   "cell_type": "code",
   "execution_count": null,
   "metadata": {},
   "outputs": [],
   "source": []
  },
  {
   "cell_type": "code",
   "execution_count": null,
   "metadata": {},
   "outputs": [],
   "source": []
  },
  {
   "cell_type": "markdown",
   "metadata": {},
   "source": [
    "## Inspect the data and remove the cities where the humidity > 100%.\n",
    "----\n",
    "Skip this step if there are no cities that have humidity > 100%. "
   ]
  },
  {
   "cell_type": "code",
   "execution_count": 9,
   "metadata": {},
   "outputs": [
    {
     "data": {
      "text/plain": [
       "0"
      ]
     },
     "execution_count": 9,
     "metadata": {},
     "output_type": "execute_result"
    }
   ],
   "source": [
    "city_df.loc[city_df[\"Humidity\"] > 100][\"City\"].count()"
   ]
  },
  {
   "cell_type": "code",
   "execution_count": 10,
   "metadata": {},
   "outputs": [
    {
     "data": {
      "text/html": [
       "<div>\n",
       "<style scoped>\n",
       "    .dataframe tbody tr th:only-of-type {\n",
       "        vertical-align: middle;\n",
       "    }\n",
       "\n",
       "    .dataframe tbody tr th {\n",
       "        vertical-align: top;\n",
       "    }\n",
       "\n",
       "    .dataframe thead th {\n",
       "        text-align: right;\n",
       "    }\n",
       "</style>\n",
       "<table border=\"1\" class=\"dataframe\">\n",
       "  <thead>\n",
       "    <tr style=\"text-align: right;\">\n",
       "      <th></th>\n",
       "      <th>Cloudiness</th>\n",
       "      <th>Date</th>\n",
       "      <th>Humidity</th>\n",
       "      <th>Lat</th>\n",
       "      <th>Lng</th>\n",
       "      <th>Max Temp</th>\n",
       "      <th>Wind Speed</th>\n",
       "    </tr>\n",
       "  </thead>\n",
       "  <tbody>\n",
       "    <tr>\n",
       "      <th>count</th>\n",
       "      <td>575.000000</td>\n",
       "      <td>5.750000e+02</td>\n",
       "      <td>575.000000</td>\n",
       "      <td>575.000000</td>\n",
       "      <td>575.000000</td>\n",
       "      <td>575.000000</td>\n",
       "      <td>575.000000</td>\n",
       "    </tr>\n",
       "    <tr>\n",
       "      <th>mean</th>\n",
       "      <td>46.116522</td>\n",
       "      <td>1.612652e+09</td>\n",
       "      <td>73.128696</td>\n",
       "      <td>19.565041</td>\n",
       "      <td>18.134009</td>\n",
       "      <td>49.515670</td>\n",
       "      <td>8.187843</td>\n",
       "    </tr>\n",
       "    <tr>\n",
       "      <th>std</th>\n",
       "      <td>38.858297</td>\n",
       "      <td>9.264733e+01</td>\n",
       "      <td>19.322969</td>\n",
       "      <td>33.256121</td>\n",
       "      <td>90.675313</td>\n",
       "      <td>32.905039</td>\n",
       "      <td>5.699697</td>\n",
       "    </tr>\n",
       "    <tr>\n",
       "      <th>min</th>\n",
       "      <td>0.000000</td>\n",
       "      <td>1.612652e+09</td>\n",
       "      <td>11.000000</td>\n",
       "      <td>-54.800000</td>\n",
       "      <td>-179.166700</td>\n",
       "      <td>-39.510000</td>\n",
       "      <td>0.270000</td>\n",
       "    </tr>\n",
       "    <tr>\n",
       "      <th>25%</th>\n",
       "      <td>2.000000</td>\n",
       "      <td>1.612652e+09</td>\n",
       "      <td>64.000000</td>\n",
       "      <td>-7.758350</td>\n",
       "      <td>-61.116650</td>\n",
       "      <td>26.600000</td>\n",
       "      <td>3.860000</td>\n",
       "    </tr>\n",
       "    <tr>\n",
       "      <th>50%</th>\n",
       "      <td>40.000000</td>\n",
       "      <td>1.612652e+09</td>\n",
       "      <td>78.000000</td>\n",
       "      <td>22.239400</td>\n",
       "      <td>20.916700</td>\n",
       "      <td>62.600000</td>\n",
       "      <td>6.910000</td>\n",
       "    </tr>\n",
       "    <tr>\n",
       "      <th>75%</th>\n",
       "      <td>90.000000</td>\n",
       "      <td>1.612652e+09</td>\n",
       "      <td>87.000000</td>\n",
       "      <td>47.768800</td>\n",
       "      <td>101.759450</td>\n",
       "      <td>76.670000</td>\n",
       "      <td>11.500000</td>\n",
       "    </tr>\n",
       "    <tr>\n",
       "      <th>max</th>\n",
       "      <td>100.000000</td>\n",
       "      <td>1.612652e+09</td>\n",
       "      <td>100.000000</td>\n",
       "      <td>78.218600</td>\n",
       "      <td>179.316700</td>\n",
       "      <td>89.600000</td>\n",
       "      <td>29.930000</td>\n",
       "    </tr>\n",
       "  </tbody>\n",
       "</table>\n",
       "</div>"
      ],
      "text/plain": [
       "       Cloudiness          Date    Humidity         Lat         Lng  \\\n",
       "count  575.000000  5.750000e+02  575.000000  575.000000  575.000000   \n",
       "mean    46.116522  1.612652e+09   73.128696   19.565041   18.134009   \n",
       "std     38.858297  9.264733e+01   19.322969   33.256121   90.675313   \n",
       "min      0.000000  1.612652e+09   11.000000  -54.800000 -179.166700   \n",
       "25%      2.000000  1.612652e+09   64.000000   -7.758350  -61.116650   \n",
       "50%     40.000000  1.612652e+09   78.000000   22.239400   20.916700   \n",
       "75%     90.000000  1.612652e+09   87.000000   47.768800  101.759450   \n",
       "max    100.000000  1.612652e+09  100.000000   78.218600  179.316700   \n",
       "\n",
       "         Max Temp  Wind Speed  \n",
       "count  575.000000  575.000000  \n",
       "mean    49.515670    8.187843  \n",
       "std     32.905039    5.699697  \n",
       "min    -39.510000    0.270000  \n",
       "25%     26.600000    3.860000  \n",
       "50%     62.600000    6.910000  \n",
       "75%     76.670000   11.500000  \n",
       "max     89.600000   29.930000  "
      ]
     },
     "execution_count": 10,
     "metadata": {},
     "output_type": "execute_result"
    }
   ],
   "source": [
    "city_df.describe()"
   ]
  },
  {
   "cell_type": "code",
   "execution_count": null,
   "metadata": {},
   "outputs": [],
   "source": []
  },
  {
   "cell_type": "code",
   "execution_count": 11,
   "metadata": {},
   "outputs": [
    {
     "name": "stdout",
     "output_type": "stream",
     "text": [
      "Empty DataFrame\n",
      "Columns: [City, Cloudiness, Country, Date, Humidity, Lat, Lng, Max Temp, Wind Speed]\n",
      "Index: []\n"
     ]
    }
   ],
   "source": [
    "#  Get the indices of cities that have humidity over 100%.\n",
    "humidity_100 = city_df.loc[city_df[\"Humidity\"] > 100, :]\n",
    "print(humidity_100)"
   ]
  },
  {
   "cell_type": "code",
   "execution_count": 25,
   "metadata": {},
   "outputs": [
    {
     "data": {
      "text/html": [
       "<div>\n",
       "<style scoped>\n",
       "    .dataframe tbody tr th:only-of-type {\n",
       "        vertical-align: middle;\n",
       "    }\n",
       "\n",
       "    .dataframe tbody tr th {\n",
       "        vertical-align: top;\n",
       "    }\n",
       "\n",
       "    .dataframe thead th {\n",
       "        text-align: right;\n",
       "    }\n",
       "</style>\n",
       "<table border=\"1\" class=\"dataframe\">\n",
       "  <thead>\n",
       "    <tr style=\"text-align: right;\">\n",
       "      <th></th>\n",
       "      <th>City</th>\n",
       "      <th>Cloudiness</th>\n",
       "      <th>Country</th>\n",
       "      <th>Date</th>\n",
       "      <th>Humidity</th>\n",
       "      <th>Lat</th>\n",
       "      <th>Lng</th>\n",
       "      <th>Max Temp</th>\n",
       "      <th>Wind Speed</th>\n",
       "    </tr>\n",
       "    <tr>\n",
       "      <th>City ID</th>\n",
       "      <th></th>\n",
       "      <th></th>\n",
       "      <th></th>\n",
       "      <th></th>\n",
       "      <th></th>\n",
       "      <th></th>\n",
       "      <th></th>\n",
       "      <th></th>\n",
       "      <th></th>\n",
       "    </tr>\n",
       "  </thead>\n",
       "  <tbody>\n",
       "    <tr>\n",
       "      <th>0</th>\n",
       "      <td>Henties Bay</td>\n",
       "      <td>40</td>\n",
       "      <td>NA</td>\n",
       "      <td>1612652293</td>\n",
       "      <td>89</td>\n",
       "      <td>-22.1160</td>\n",
       "      <td>14.2845</td>\n",
       "      <td>64.99</td>\n",
       "      <td>1.99</td>\n",
       "    </tr>\n",
       "    <tr>\n",
       "      <th>1</th>\n",
       "      <td>Hofn</td>\n",
       "      <td>98</td>\n",
       "      <td>IS</td>\n",
       "      <td>1612652145</td>\n",
       "      <td>92</td>\n",
       "      <td>64.2539</td>\n",
       "      <td>-15.2082</td>\n",
       "      <td>32.90</td>\n",
       "      <td>18.37</td>\n",
       "    </tr>\n",
       "    <tr>\n",
       "      <th>2</th>\n",
       "      <td>Cape Town</td>\n",
       "      <td>20</td>\n",
       "      <td>ZA</td>\n",
       "      <td>1612652293</td>\n",
       "      <td>83</td>\n",
       "      <td>-33.9258</td>\n",
       "      <td>18.4232</td>\n",
       "      <td>72.00</td>\n",
       "      <td>9.22</td>\n",
       "    </tr>\n",
       "    <tr>\n",
       "      <th>3</th>\n",
       "      <td>Dikson</td>\n",
       "      <td>89</td>\n",
       "      <td>RU</td>\n",
       "      <td>1612652294</td>\n",
       "      <td>86</td>\n",
       "      <td>73.5069</td>\n",
       "      <td>80.5464</td>\n",
       "      <td>-28.75</td>\n",
       "      <td>9.57</td>\n",
       "    </tr>\n",
       "    <tr>\n",
       "      <th>4</th>\n",
       "      <td>Tuatapere</td>\n",
       "      <td>1</td>\n",
       "      <td>NZ</td>\n",
       "      <td>1612652294</td>\n",
       "      <td>50</td>\n",
       "      <td>-46.1333</td>\n",
       "      <td>167.6833</td>\n",
       "      <td>70.03</td>\n",
       "      <td>1.92</td>\n",
       "    </tr>\n",
       "    <tr>\n",
       "      <th>...</th>\n",
       "      <td>...</td>\n",
       "      <td>...</td>\n",
       "      <td>...</td>\n",
       "      <td>...</td>\n",
       "      <td>...</td>\n",
       "      <td>...</td>\n",
       "      <td>...</td>\n",
       "      <td>...</td>\n",
       "      <td>...</td>\n",
       "    </tr>\n",
       "    <tr>\n",
       "      <th>570</th>\n",
       "      <td>Kingaroy</td>\n",
       "      <td>40</td>\n",
       "      <td>AU</td>\n",
       "      <td>1612652449</td>\n",
       "      <td>61</td>\n",
       "      <td>-26.5333</td>\n",
       "      <td>151.8333</td>\n",
       "      <td>81.00</td>\n",
       "      <td>8.05</td>\n",
       "    </tr>\n",
       "    <tr>\n",
       "      <th>571</th>\n",
       "      <td>Dosso</td>\n",
       "      <td>52</td>\n",
       "      <td>NE</td>\n",
       "      <td>1612652449</td>\n",
       "      <td>18</td>\n",
       "      <td>13.0490</td>\n",
       "      <td>3.1937</td>\n",
       "      <td>77.58</td>\n",
       "      <td>9.40</td>\n",
       "    </tr>\n",
       "    <tr>\n",
       "      <th>572</th>\n",
       "      <td>Thinadhoo</td>\n",
       "      <td>2</td>\n",
       "      <td>MV</td>\n",
       "      <td>1612652449</td>\n",
       "      <td>75</td>\n",
       "      <td>0.5333</td>\n",
       "      <td>72.9333</td>\n",
       "      <td>81.16</td>\n",
       "      <td>11.56</td>\n",
       "    </tr>\n",
       "    <tr>\n",
       "      <th>573</th>\n",
       "      <td>Halifax</td>\n",
       "      <td>59</td>\n",
       "      <td>CA</td>\n",
       "      <td>1612652394</td>\n",
       "      <td>75</td>\n",
       "      <td>44.6453</td>\n",
       "      <td>-63.5724</td>\n",
       "      <td>35.60</td>\n",
       "      <td>10.36</td>\n",
       "    </tr>\n",
       "    <tr>\n",
       "      <th>574</th>\n",
       "      <td>Pevek</td>\n",
       "      <td>38</td>\n",
       "      <td>RU</td>\n",
       "      <td>1612652450</td>\n",
       "      <td>88</td>\n",
       "      <td>69.7008</td>\n",
       "      <td>170.3133</td>\n",
       "      <td>-5.75</td>\n",
       "      <td>5.23</td>\n",
       "    </tr>\n",
       "  </tbody>\n",
       "</table>\n",
       "<p>561 rows × 9 columns</p>\n",
       "</div>"
      ],
      "text/plain": [
       "                City  Cloudiness Country        Date  Humidity      Lat  \\\n",
       "City ID                                                                   \n",
       "0        Henties Bay          40      NA  1612652293        89 -22.1160   \n",
       "1               Hofn          98      IS  1612652145        92  64.2539   \n",
       "2          Cape Town          20      ZA  1612652293        83 -33.9258   \n",
       "3             Dikson          89      RU  1612652294        86  73.5069   \n",
       "4          Tuatapere           1      NZ  1612652294        50 -46.1333   \n",
       "...              ...         ...     ...         ...       ...      ...   \n",
       "570         Kingaroy          40      AU  1612652449        61 -26.5333   \n",
       "571            Dosso          52      NE  1612652449        18  13.0490   \n",
       "572        Thinadhoo           2      MV  1612652449        75   0.5333   \n",
       "573          Halifax          59      CA  1612652394        75  44.6453   \n",
       "574            Pevek          38      RU  1612652450        88  69.7008   \n",
       "\n",
       "              Lng  Max Temp  Wind Speed  \n",
       "City ID                                  \n",
       "0         14.2845     64.99        1.99  \n",
       "1        -15.2082     32.90       18.37  \n",
       "2         18.4232     72.00        9.22  \n",
       "3         80.5464    -28.75        9.57  \n",
       "4        167.6833     70.03        1.92  \n",
       "...           ...       ...         ...  \n",
       "570      151.8333     81.00        8.05  \n",
       "571        3.1937     77.58        9.40  \n",
       "572       72.9333     81.16       11.56  \n",
       "573      -63.5724     35.60       10.36  \n",
       "574      170.3133     -5.75        5.23  \n",
       "\n",
       "[561 rows x 9 columns]"
      ]
     },
     "execution_count": 25,
     "metadata": {},
     "output_type": "execute_result"
    }
   ],
   "source": [
    "clean_city_data = city_df.loc[city_df[\"Humidity\"] < 100, :]\n",
    "clean_city_data"
   ]
  },
  {
   "cell_type": "code",
   "execution_count": null,
   "metadata": {},
   "outputs": [],
   "source": []
  },
  {
   "cell_type": "code",
   "execution_count": null,
   "metadata": {},
   "outputs": [],
   "source": [
    "\n"
   ]
  },
  {
   "cell_type": "markdown",
   "metadata": {},
   "source": [
    "## Plotting the Data\n",
    "* Use proper labeling of the plots using plot titles (including date of analysis) and axes labels.\n",
    "* Save the plotted figures as .pngs."
   ]
  },
  {
   "cell_type": "markdown",
   "metadata": {},
   "source": [
    "## Latitude vs. Temperature Plot"
   ]
  },
  {
   "cell_type": "code",
   "execution_count": 49,
   "metadata": {},
   "outputs": [
    {
     "data": {
      "image/png": "[encoded data removed]",
      "text/plain": [
       "<Figure size 432x288 with 1 Axes>"
      ]
     },
     "metadata": {
      "needs_background": "light"
     },
     "output_type": "display_data"
    }
   ],
   "source": [
    "plt.scatter(clean_city_data[\"Lat\"], clean_city_data[\"Max Temp\"])\n",
    "plt.title(\"City Latitude vs. Max Temperature\")\n",
    "plt.xlabel(\"Latitude\")\n",
    "plt.ylabel(\"Max Temperature (F)\")\n",
    "plt.savefig(\"output_data/City Latitude vs. Max Temperature.png\")\n",
    "plt.show()"
   ]
  },
  {
   "cell_type": "code",
   "execution_count": null,
   "metadata": {
    "scrolled": true
   },
   "outputs": [],
   "source": []
  },
  {
   "cell_type": "markdown",
   "metadata": {},
   "source": [
    "## Latitude vs. Humidity Plot"
   ]
  },
  {
   "cell_type": "code",
   "execution_count": 48,
   "metadata": {},
   "outputs": [
    {
     "data": {
      "image/png": "[encoded data removed]",
      "text/plain": [
       "<Figure size 432x288 with 1 Axes>"
      ]
     },
     "metadata": {
      "needs_background": "light"
     },
     "output_type": "display_data"
    }
   ],
   "source": [
    "plt.scatter(clean_city_data[\"Lat\"], clean_city_data[\"Humidity\"])\n",
    "plt.title(\"City Latitude vs. Humidity\")\n",
    "plt.xlabel(\"Latitude\")\n",
    "plt.ylabel(\"Humidity (%)\")\n",
    "plt.savefig(\"output_data/City Latitude vs. Humidity.png\")\n",
    "plt.show()"
   ]
  },
  {
   "cell_type": "code",
   "execution_count": null,
   "metadata": {},
   "outputs": [],
   "source": []
  },
  {
   "cell_type": "markdown",
   "metadata": {},
   "source": [
    "## Latitude vs. Cloudiness Plot"
   ]
  },
  {
   "cell_type": "code",
   "execution_count": 47,
   "metadata": {},
   "outputs": [
    {
     "data": {
      "image/png": "[encoded data removed]",
      "text/plain": [
       "<Figure size 432x288 with 1 Axes>"
      ]
     },
     "metadata": {
      "needs_background": "light"
     },
     "output_type": "display_data"
    }
   ],
   "source": [
    "plt.scatter(clean_city_data[\"Lat\"], clean_city_data[\"Cloudiness\"])\n",
    "plt.title(\"City Latitude vs. Cloudiness\")\n",
    "plt.xlabel(\"Latitude\")\n",
    "plt.ylabel(\"Cloudiness (%)\")\n",
    "plt.savefig(\"output_data/City Latitude vs. Cloudiness.png\")\n",
    "plt.show()"
   ]
  },
  {
   "cell_type": "code",
   "execution_count": null,
   "metadata": {},
   "outputs": [],
   "source": []
  },
  {
   "cell_type": "markdown",
   "metadata": {},
   "source": [
    "## Latitude vs. Wind Speed Plot"
   ]
  },
  {
   "cell_type": "code",
   "execution_count": 46,
   "metadata": {},
   "outputs": [
    {
     "data": {
      "image/png": "[encoded data removed]",
      "text/plain": [
       "<Figure size 432x288 with 1 Axes>"
      ]
     },
     "metadata": {
      "needs_background": "light"
     },
     "output_type": "display_data"
    }
   ],
   "source": [
    "plt.scatter(clean_city_data[\"Lat\"], clean_city_data[\"Wind Speed\"])\n",
    "plt.title(\"City Latitude vs. Wind Speed\")\n",
    "plt.xlabel(\"Latitude\")\n",
    "plt.ylabel(\"Wind Speed (mph)\")\n",
    "plt.savefig(\"output_data/City Latitude vs. Wind Speed.png\")\n",
    "plt.show()"
   ]
  },
  {
   "cell_type": "code",
   "execution_count": null,
   "metadata": {},
   "outputs": [],
   "source": []
  },
  {
   "cell_type": "markdown",
   "metadata": {},
   "source": [
    "## Linear Regression"
   ]
  },
  {
   "cell_type": "code",
   "execution_count": null,
   "metadata": {},
   "outputs": [],
   "source": []
  },
  {
   "cell_type": "code",
   "execution_count": 31,
   "metadata": {},
   "outputs": [],
   "source": [
    "def linear_regression(x_values,y_values):\n",
    "    (slope, intercept, rvalue, pvalue, stderr) = linregress(x_values, y_values)\n",
    "    regress_values = x_values * slope + intercept\n",
    "    line_eq = \"y = \" + str(round(slope,2)) + \"x + \" + str(round(intercept,2))\n",
    "    plt.scatter(x_values, y_values)\n",
    "    plt.plot(x_values,regress_values,\"r-\")\n",
    "    return [line_eq, rvalue]\n",
    "\n",
    "# Line annotation function\n",
    "def annotate(line_eq, a, b):\n",
    "    plt.annotate(line_eq,(a,b),fontsize=15,color=\"red\")\n"
   ]
  },
  {
   "cell_type": "code",
   "execution_count": 32,
   "metadata": {},
   "outputs": [],
   "source": [
    "\n"
   ]
  },
  {
   "cell_type": "markdown",
   "metadata": {},
   "source": [
    "####  Northern Hemisphere - Max Temp vs. Latitude Linear Regression"
   ]
  },
  {
   "cell_type": "code",
   "execution_count": 50,
   "metadata": {},
   "outputs": [],
   "source": [
    "northern_df = clean_city_data.loc[city_df[\"Lat\"] >= 0]"
   ]
  },
  {
   "cell_type": "code",
   "execution_count": null,
   "metadata": {},
   "outputs": [],
   "source": []
  },
  {
   "cell_type": "code",
   "execution_count": 78,
   "metadata": {},
   "outputs": [
    {
     "name": "stdout",
     "output_type": "stream",
     "text": [
      "R-squared: 0.7608063333818263\n"
     ]
    },
    {
     "data": {
      "image/png": "[encoded data removed]",
      "text/plain": [
       "<Figure size 432x288 with 1 Axes>"
      ]
     },
     "metadata": {
      "needs_background": "light"
     },
     "output_type": "display_data"
    }
   ],
   "source": [
    "equation = linear_regression(northern_df[\"Lat\"], northern_df[\"Max Temp\"])\n",
    "\n",
    "annotate(equation[0], 0, 80)\n",
    "\n",
    "plt.title(f\"Northern Hemisphere - Max Temperature vs. Latitude Linear Regression\")\n",
    "plt.xlabel(\"Latitude\")\n",
    "plt.ylabel(\"Max Temp (F)\")\n",
    "\n",
    "print(f\"R-squared: {equation[1]**2}\")\n",
    "\n",
    "plt.savefig(\"output_data/Northern Hemisphere - Max Temperature vs. Latitude Linear Regression.png\")"
   ]
  },
  {
   "cell_type": "code",
   "execution_count": null,
   "metadata": {},
   "outputs": [],
   "source": []
  },
  {
   "cell_type": "markdown",
   "metadata": {},
   "source": [
    "####  Southern Hemisphere - Max Temp vs. Latitude Linear Regression"
   ]
  },
  {
   "cell_type": "code",
   "execution_count": 52,
   "metadata": {},
   "outputs": [],
   "source": [
    "southern_df = clean_city_data.loc[city_df[\"Lat\"] < 0]"
   ]
  },
  {
   "cell_type": "code",
   "execution_count": 79,
   "metadata": {},
   "outputs": [
    {
     "name": "stdout",
     "output_type": "stream",
     "text": [
      "R-squared: 0.3401128112883173\n"
     ]
    },
    {
     "data": {
      "image/png": "[encoded data removed]",
      "text/plain": [
       "<Figure size 432x288 with 1 Axes>"
      ]
     },
     "metadata": {
      "needs_background": "light"
     },
     "output_type": "display_data"
    }
   ],
   "source": [
    "equation = linear_regression(southern_df[\"Lat\"], southern_df[\"Max Temp\"])\n",
    "\n",
    "annotate(equation[0], 0, 80)\n",
    "\n",
    "plt.title(f\"Southern Hemisphere - Max Temperature vs. Latitude Linear Regression\")\n",
    "plt.xlabel(\"Latitude\")\n",
    "plt.ylabel(\"Max Temp (F)\")\n",
    "\n",
    "print(f\"R-squared: {equation[1]**2}\")\n",
    "\n",
    "plt.savefig(\"output_data/Southern Hemisphere - Max Temperature vs. Latitude Linear Regression.png\")"
   ]
  },
  {
   "cell_type": "code",
   "execution_count": null,
   "metadata": {},
   "outputs": [],
   "source": [
    "### Analysis:\n",
    "##The closer a city is to the equator (0 degrees latitude), the more likely it is for there to be higher temperatures there. "
   ]
  },
  {
   "cell_type": "markdown",
   "metadata": {},
   "source": [
    "####  Northern Hemisphere - Humidity (%) vs. Latitude Linear Regression"
   ]
  },
  {
   "cell_type": "code",
   "execution_count": 75,
   "metadata": {},
   "outputs": [
    {
     "name": "stdout",
     "output_type": "stream",
     "text": [
      "R-squared: 0.11291937086071165\n"
     ]
    },
    {
     "data": {
      "image/png": "[encoded data removed]",
      "text/plain": [
       "<Figure size 432x288 with 1 Axes>"
      ]
     },
     "metadata": {
      "needs_background": "light"
     },
     "output_type": "display_data"
    }
   ],
   "source": [
    "equation = linear_regression(northern_df[\"Lat\"], northern_df[\"Humidity\"])\n",
    "\n",
    "annotate(equation[0], 0, 80)\n",
    "\n",
    "plt.title(f\"Northern Hemisphere - Humidity vs. Latitude Linear Regression\")\n",
    "plt.xlabel(\"Latitude\")\n",
    "plt.ylabel(\"Humidity\")\n",
    "\n",
    "print(f\"R-squared: {equation[1]**2}\")\n",
    "\n",
    "plt.savefig(\"output_data/Northern Hemisphere - Humidity vs. Latitude Linear Regression.png\")"
   ]
  },
  {
   "cell_type": "code",
   "execution_count": null,
   "metadata": {},
   "outputs": [],
   "source": []
  },
  {
   "cell_type": "markdown",
   "metadata": {},
   "source": [
    "####  Southern Hemisphere - Humidity (%) vs. Latitude Linear Regression"
   ]
  },
  {
   "cell_type": "code",
   "execution_count": 76,
   "metadata": {},
   "outputs": [
    {
     "name": "stdout",
     "output_type": "stream",
     "text": [
      "R-squared: 0.13168005321945897\n"
     ]
    },
    {
     "data": {
      "image/png": "[encoded data removed]",
      "text/plain": [
       "<Figure size 432x288 with 1 Axes>"
      ]
     },
     "metadata": {
      "needs_background": "light"
     },
     "output_type": "display_data"
    }
   ],
   "source": [
    "equation = linear_regression(southern_df[\"Lat\"], southern_df[\"Humidity\"])\n",
    "\n",
    "annotate(equation[0], 0, 80)\n",
    "\n",
    "plt.title(f\"Southern Hemisphere - Humidity vs. Latitude Linear Regression\")\n",
    "plt.xlabel(\"Latitude\")\n",
    "plt.ylabel(\"Humidity\")\n",
    "\n",
    "print(f\"R-squared: {equation[1]**2}\")\n",
    "\n",
    "plt.savefig(\"output_data/Southern Hemisphere - Humidity vs. Latitude Linear Regression.png\")"
   ]
  },
  {
   "cell_type": "code",
   "execution_count": null,
   "metadata": {},
   "outputs": [],
   "source": [
    "##Analysis:\n",
    "## I'm honestly not sure what the correleation is between humidity and latitude linear regression."
   ]
  },
  {
   "cell_type": "markdown",
   "metadata": {},
   "source": [
    "####  Northern Hemisphere - Cloudiness (%) vs. Latitude Linear Regression"
   ]
  },
  {
   "cell_type": "code",
   "execution_count": 80,
   "metadata": {},
   "outputs": [
    {
     "name": "stdout",
     "output_type": "stream",
     "text": [
      "R-squared: 0.06413728614926982\n"
     ]
    },
    {
     "data": {
      "image/png": "[encoded data removed]",
      "text/plain": [
       "<Figure size 432x288 with 1 Axes>"
      ]
     },
     "metadata": {
      "needs_background": "light"
     },
     "output_type": "display_data"
    }
   ],
   "source": [
    "equation = linear_regression(northern_df[\"Lat\"], northern_df[\"Cloudiness\"])\n",
    "\n",
    "annotate(equation[0], 0, 80)\n",
    "\n",
    "plt.title(f\"Northern Hemisphere - Cloudiness vs. Latitude Linear Regression\")\n",
    "plt.xlabel(\"Latitude\")\n",
    "plt.ylabel(\"Cloudiness\")\n",
    "\n",
    "print(f\"R-squared: {equation[1]**2}\")\n",
    "\n",
    "plt.savefig(\"output_data/Northern Hemisphere - Cloudiness vs. Latitude Linear Regression.png\")"
   ]
  },
  {
   "cell_type": "code",
   "execution_count": null,
   "metadata": {},
   "outputs": [],
   "source": []
  },
  {
   "cell_type": "markdown",
   "metadata": {},
   "source": [
    "####  Southern Hemisphere - Cloudiness (%) vs. Latitude Linear Regression"
   ]
  },
  {
   "cell_type": "code",
   "execution_count": 67,
   "metadata": {},
   "outputs": [
    {
     "name": "stdout",
     "output_type": "stream",
     "text": [
      "R-squared: 0.1373199093342518\n"
     ]
    },
    {
     "data": {
      "image/png": "[encoded data removed]",
      "text/plain": [
       "<Figure size 432x288 with 1 Axes>"
      ]
     },
     "metadata": {
      "needs_background": "light"
     },
     "output_type": "display_data"
    }
   ],
   "source": [
    "equation = linear_regression(southern_df[\"Lat\"], southern_df[\"Cloudiness\"])\n",
    "\n",
    "annotate(equation[0], 0, 80)\n",
    "\n",
    "plt.title(f\"Southern Hemisphere - Cloudiness vs. Latitude Linear Regression\")\n",
    "plt.xlabel(\"Latitude\")\n",
    "plt.ylabel(\"Cloudiness\")\n",
    "\n",
    "print(f\"R-squared: {equation[1]**2}\")\n",
    "\n",
    "plt.savefig(\"output_data/Southern Hemisphere - Cloudiness vs. Latitude Linear Regression.png\")"
   ]
  },
  {
   "cell_type": "code",
   "execution_count": null,
   "metadata": {},
   "outputs": [],
   "source": [
    "##Analysis:\n",
    "##Based on these linear regression graphs, northern cities have more clouds than southern cities."
   ]
  },
  {
   "cell_type": "markdown",
   "metadata": {},
   "source": [
    "####  Northern Hemisphere - Wind Speed (mph) vs. Latitude Linear Regression"
   ]
  },
  {
   "cell_type": "code",
   "execution_count": 71,
   "metadata": {},
   "outputs": [
    {
     "name": "stdout",
     "output_type": "stream",
     "text": [
      "R-squared: 0.008209823258686529\n"
     ]
    },
    {
     "data": {
      "image/png": "[encoded data removed]",
      "text/plain": [
       "<Figure size 432x288 with 1 Axes>"
      ]
     },
     "metadata": {
      "needs_background": "light"
     },
     "output_type": "display_data"
    }
   ],
   "source": [
    "equation = linear_regression(northern_df[\"Lat\"], northern_df[\"Wind Speed\"])\n",
    "\n",
    "annotate(equation[0], 0, 80)\n",
    "\n",
    "plt.title(f\"Northern Hemisphere - Wind Speed vs. Latitude Linear Regression\")\n",
    "plt.xlabel(\"Latitude\")\n",
    "plt.ylabel(\"Wind Speed\")\n",
    "\n",
    "print(f\"R-squared: {equation[1]**2}\")\n",
    "\n",
    "plt.savefig(\"output_data/Northern Hemisphere - Wind Speed vs. Latitude Linear Regression.png\")"
   ]
  },
  {
   "cell_type": "code",
   "execution_count": null,
   "metadata": {},
   "outputs": [],
   "source": []
  },
  {
   "cell_type": "markdown",
   "metadata": {},
   "source": [
    "####  Southern Hemisphere - Wind Speed (mph) vs. Latitude Linear Regression"
   ]
  },
  {
   "cell_type": "code",
   "execution_count": 72,
   "metadata": {},
   "outputs": [
    {
     "name": "stdout",
     "output_type": "stream",
     "text": [
      "R-squared: 0.055053777284249074\n"
     ]
    },
    {
     "data": {
      "image/png": "[encoded data removed]",
      "text/plain": [
       "<Figure size 432x288 with 1 Axes>"
      ]
     },
     "metadata": {
      "needs_background": "light"
     },
     "output_type": "display_data"
    }
   ],
   "source": [
    "equation = linear_regression(southern_df[\"Lat\"], southern_df[\"Wind Speed\"])\n",
    "\n",
    "annotate(equation[0], 0, 80)\n",
    "\n",
    "plt.title(f\"Southern Hemisphere - Wind Speed vs. Latitude Linear Regression\")\n",
    "plt.xlabel(\"Latitude\")\n",
    "plt.ylabel(\"Wind Speed\")\n",
    "\n",
    "print(f\"R-squared: {equation[1]**2}\")\n",
    "\n",
    "plt.savefig(\"output_data/Southern Hemisphere - Wind Speed vs. Latitude Linear Regression.png\")"
   ]
  },
  {
   "cell_type": "code",
   "execution_count": 81,
   "metadata": {},
   "outputs": [],
   "source": [
    "##Analysis\n",
    "##Based on these linear regression graphs, it appears that wind speed is higher the farther away from the equator a city is. "
   ]
  },
  {
   "cell_type": "code",
   "execution_count": null,
   "metadata": {},
   "outputs": [],
   "source": []
  }
 ],
 "metadata": {
  "anaconda-cloud": {},
  "kernel_info": {
   "name": "python3"
  },
  "kernelspec": {
   "display_name": "Python 3",
   "language": "python",
   "name": "python3"
  },
  "language_info": {
   "codemirror_mode": {
    "name": "ipython",
    "version": 3
   },
   "file_extension": ".py",
   "mimetype": "text/x-python",
   "name": "python",
   "nbconvert_exporter": "python",
   "pygments_lexer": "ipython3",
   "version": "3.6.10"
  },
  "latex_envs": {
   "LaTeX_envs_menu_present": true,
   "autoclose": false,
   "autocomplete": true,
   "bibliofile": "biblio.bib",
   "cite_by": "apalike",
   "current_citInitial": 1,
   "eqLabelWithNumbers": true,
   "eqNumInitial": 1,
   "hotkeys": {
    "equation": "Ctrl-E",
    "itemize": "Ctrl-I"
   },
   "labels_anchors": false,
   "latex_user_defs": false,
   "report_style_numbering": false,
   "user_envs_cfg": false
  },
  "nteract": {
   "version": "0.12.3"
  }
 },
 "nbformat": 4,
 "nbformat_minor": 2
}
